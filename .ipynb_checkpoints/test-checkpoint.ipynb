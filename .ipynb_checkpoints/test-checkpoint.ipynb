{
 "cells": [
  {
   "cell_type": "code",
   "execution_count": 55,
   "metadata": {},
   "outputs": [],
   "source": [
    "import pandas as pd\n",
    "import numpy as np\n",
    "\n",
    "from tensorflow import keras\n",
    "import tensorflow as tf\n",
    "from tensorflow.keras import layers\n",
    "from keras.layers import Input, Dense, Activation\n",
    "import matplotlib.pyplot as plt\n",
    "from keras.models import Model"
   ]
  },
  {
   "cell_type": "code",
   "execution_count": 56,
   "metadata": {},
   "outputs": [],
   "source": [
    "# tag list\n",
    "tag_file=pd.read_csv(\"tags.csv\")\n",
    "tag=tag_file[\"tagID\"]\n",
    "tag=list(tag)\n",
    "\n",
    "# user_code\n",
    "user_tag_file=pd.read_csv(\"user_tags.csv\")\n",
    "company_tag_file=pd.read_csv(\"job_tags.csv\")\n",
    "\n",
    "# user_code 작성\n",
    "list_of_user=list(set(user_tag_file[\"userID\"]))\n",
    "user_code={}\n",
    "for user in list_of_user:\n",
    "    user_code[user]=[0 for i in range(887)]\n",
    "\n",
    "sizeOfUserTag=len(user_tag_file)\n",
    "for i in range(sizeOfUserTag):\n",
    "    tag_id_of_user=user_tag_file[\"tagID\"][i]\n",
    "    index_of_tag_user=tag.index(tag_id_of_user)  \n",
    "    user_code[user_tag_file[\"userID\"][i]][index_of_tag_user]=1\n",
    "    \n",
    "# company_code 작성\n",
    "list_of_company=list(set(company_tag_file[\"jobID\"]))    \n",
    "company_code={}\n",
    "for company in list_of_company:\n",
    "    company_code[company]=[0 for i in range(887)]\n",
    "\n",
    "sizeOfCompanyTag=len(company_tag_file)\n",
    "for i in range(sizeOfCompanyTag):\n",
    "    tag_id_of_company=company_tag_file[\"tagID\"][i]\n",
    "    index_of_tag_company=tag.index(tag_id_of_company)\n",
    "    company_code[company_tag_file[\"jobID\"][i]][index_of_tag_company]=1"
   ]
  },
  {
   "cell_type": "code",
   "execution_count": 57,
   "metadata": {},
   "outputs": [],
   "source": [
    "# x_test 입력\n",
    "train_file=pd.read_csv(\"test_job.csv\")\n",
    "size_input=len(train_file)\n",
    "X_test=[]\n",
    "\n",
    "for i in range(size_input):\n",
    "    userL=user_code[train_file[\"userID\"][i]]\n",
    "    companyL=company_code[train_file[\"jobID\"][i]]\n",
    "    tempL=userL+companyL\n",
    "    X_test.append(tempL)\n",
    "    \n",
    "X_test=np.array(X_test)"
   ]
  },
  {
   "cell_type": "code",
   "execution_count": 58,
   "metadata": {},
   "outputs": [],
   "source": [
    "#모델 불러오기\n",
    "from tensorflow.python.keras.models import load_model\n",
    "model = load_model(\"donghyun_model.h5\")"
   ]
  },
  {
   "cell_type": "code",
   "execution_count": 59,
   "metadata": {},
   "outputs": [],
   "source": [
    "# x_test 입력\n",
    "test_file=pd.read_csv(\"test_job.csv\")\n",
    "size_input_test=len(test_file)\n",
    "X_test=[]\n",
    "\n",
    "for i in range(size_input):\n",
    "    userL=user_code[train_file[\"userID\"][i]]\n",
    "    companyL=company_code[train_file[\"jobID\"][i]]\n",
    "    tempL=userL+companyL\n",
    "    X_test.append(tempL)\n",
    "    \n",
    "X_test=np.array(X_test)"
   ]
  },
  {
   "cell_type": "code",
   "execution_count": 60,
   "metadata": {},
   "outputs": [],
   "source": [
    "y_prob=model.predict(X_test)\n",
    "y_class=[]\n",
    "for i in range(len(y_prob)):\n",
    "    if y_prob[i][0]>=0.5:\n",
    "        y_class.append(1)\n",
    "    else:\n",
    "        y_class.append(0)"
   ]
  },
  {
   "cell_type": "code",
   "execution_count": 61,
   "metadata": {},
   "outputs": [],
   "source": [
    "df=pd.DataFrame(data=y_class,columns=['applied'])\n",
    "df.to_csv(\"result.csv\",mode='w',index=False)"
   ]
  }
 ],
 "metadata": {
  "kernelspec": {
   "display_name": "Python 3",
   "language": "python",
   "name": "python3"
  },
  "language_info": {
   "codemirror_mode": {
    "name": "ipython",
    "version": 3
   },
   "file_extension": ".py",
   "mimetype": "text/x-python",
   "name": "python",
   "nbconvert_exporter": "python",
   "pygments_lexer": "ipython3",
   "version": "3.7.3"
  }
 },
 "nbformat": 4,
 "nbformat_minor": 2
}
